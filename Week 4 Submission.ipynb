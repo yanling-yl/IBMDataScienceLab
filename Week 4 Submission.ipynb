{
 "cells": [
  {
   "cell_type": "markdown",
   "id": "d8e353f3-0fc7-409e-b15a-c05583675f2b",
   "metadata": {},
   "source": [
    "# Week 4 Assignment"
   ]
  },
  {
   "cell_type": "markdown",
   "id": "85081063-d8a7-4966-9b8c-0155af90a409",
   "metadata": {},
   "source": [
    "**Introduction** (Exercise 3) <br>\n",
    "Here is a notebook for the week 4 assignment of Tools for Data Science. "
   ]
  },
  {
   "cell_type": "markdown",
   "id": "663c62ca-5f48-4a7f-b78f-6e77ae0b7a85",
   "metadata": {},
   "source": [
    "**Data Science Languages** (Exercise 4) <br>\n",
    "- Python\n",
    "- R\n",
    "- SQL\n",
    "- Julia"
   ]
  },
  {
   "cell_type": "markdown",
   "id": "1963ae44-fd5a-442e-9ae6-dad9f7400376",
   "metadata": {},
   "source": [
    "**Data Science Libraries** (Exercise 5) <br>\n",
    "- numpy\n",
    "- pandas\n",
    "- SciKit-Learn\n",
    "- PyTorch\n",
    "- TensorFlow"
   ]
  },
  {
   "cell_type": "markdown",
   "id": "ce374a6b-79d3-49c3-8c60-4d69bd93115e",
   "metadata": {},
   "source": [
    "**Data Science Tools** (Exercise 6) <br>\n",
    "\n",
    "| DATA MANAGEMENT | DATA INTEGRATION AND TRANSFORMATION | DATA VISUALIZATION | MODEL DEPLOYMENT | MODEL MONITORING |\n",
    "| :--- | :--- | :--- | :--- | :--- |\n",
    "| MySQL | Apache Airflow | Hue | Prediction IO | ModelDB |\n",
    "| PostgreSQL | Apache Kafka | Kibana | Openshift | Prometheus |\n",
    "| mongoDB | Node Red | Superset | Kubernetes |  |"
   ]
  },
  {
   "cell_type": "markdown",
   "id": "23d3bdb8-d15d-4bf0-8279-7b0aaf7a7f5e",
   "metadata": {},
   "source": [
    "**Arithmetic Expression Examples** (Exercise 7)\n",
    "\n",
    "\" + \" operator: 1+1 = 2 <br>\n",
    "\" - \" operator: 2-1 = 1 <br>\n",
    "\" * \" operator: 2*3 = 6 <br>\n",
    "\" / \" operator: 10/5 = 2 <br>"
   ]
  },
  {
   "cell_type": "markdown",
   "id": "cc4af691-b910-428f-a9dc-269f1be28373",
   "metadata": {},
   "source": [
    "**Multiply and Add** (Exercise 8)"
   ]
  },
  {
   "cell_type": "code",
   "execution_count": 4,
   "id": "89e5489a-d149-4b15-866a-542d482e3866",
   "metadata": {},
   "outputs": [
    {
     "data": {
      "text/plain": [
       "255474"
      ]
     },
     "execution_count": 4,
     "metadata": {},
     "output_type": "execute_result"
    }
   ],
   "source": [
    "234243 + 21231"
   ]
  },
  {
   "cell_type": "code",
   "execution_count": 3,
   "id": "7c73f1e6-9165-4d59-bb9b-478c4f63655b",
   "metadata": {},
   "outputs": [
    {
     "data": {
      "text/plain": [
       "966"
      ]
     },
     "execution_count": 3,
     "metadata": {},
     "output_type": "execute_result"
    }
   ],
   "source": [
    "42 * 23"
   ]
  },
  {
   "cell_type": "markdown",
   "id": "cdbeead5-6a5d-491e-8f83-51e4029e243c",
   "metadata": {},
   "source": [
    "**Convert minutes to hours** (Exercise 9)"
   ]
  },
  {
   "cell_type": "code",
   "execution_count": 14,
   "id": "04a80ce4-19e0-48ef-beef-69c9cca3a6b0",
   "metadata": {},
   "outputs": [
    {
     "data": {
      "text/plain": [
       "20.5"
      ]
     },
     "execution_count": 14,
     "metadata": {},
     "output_type": "execute_result"
    }
   ],
   "source": [
    "def min_to_hours(min):\n",
    "    return min/60\n",
    "\n",
    "min_to_hours(1230)"
   ]
  },
  {
   "cell_type": "markdown",
   "id": "d004b075-bd19-4b79-846c-d8b2a8bcb62a",
   "metadata": {},
   "source": [
    "**Objectives** (Exercise 10)\n",
    "* Create and share a public Jupyter notebook, in any language, in Watson Studio and create markdown cells for peer review. <br>\n",
    "* Evaluate and grade final assignments submitted by fellow learners using the given rubric. Provide constructive feedback and offer ideas and suggestions that fellow learners can apply right away."
   ]
  },
  {
   "cell_type": "markdown",
   "id": "b4c8c287-4945-44cd-8b74-5e8b5551a2b4",
   "metadata": {},
   "source": [
    "**Author Name** : Li Yanling <br>\n",
    "(Exercise 11)\n"
   ]
  },
  {
   "cell_type": "code",
   "execution_count": null,
   "id": "99a4b673-2012-4be9-80d0-0e03a4656966",
   "metadata": {},
   "outputs": [],
   "source": []
  }
 ],
 "metadata": {
  "kernelspec": {
   "display_name": "Python",
   "language": "python",
   "name": "conda-env-python-py"
  },
  "language_info": {
   "codemirror_mode": {
    "name": "ipython",
    "version": 3
   },
   "file_extension": ".py",
   "mimetype": "text/x-python",
   "name": "python",
   "nbconvert_exporter": "python",
   "pygments_lexer": "ipython3",
   "version": "3.7.12"
  }
 },
 "nbformat": 4,
 "nbformat_minor": 5
}
